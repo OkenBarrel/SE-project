{
 "cells": [
  {
   "cell_type": "code",
   "execution_count": null,
   "id": "df014e10-bcb7-48b5-bab5-2d29ec76fcf6",
   "metadata": {},
   "outputs": [],
   "source": []
  }
 ],
 "metadata": {
  "kernelspec": {
   "display_name": "",
   "name": ""
  },
  "language_info": {
   "name": ""
  }
 },
 "nbformat": 4,
 "nbformat_minor": 5
}
